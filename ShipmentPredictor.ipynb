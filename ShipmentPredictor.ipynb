{
  "nbformat": 4,
  "nbformat_minor": 0,
  "metadata": {
    "colab": {
      "provenance": []
    },
    "kernelspec": {
      "name": "python3",
      "display_name": "Python 3"
    },
    "language_info": {
      "name": "python"
    }
  },
  "cells": [
    {
      "cell_type": "code",
      "source": [
        "!pip install fastapi\n",
        "!pip install uvicorn"
      ],
      "metadata": {
        "colab": {
          "base_uri": "https://localhost:8080/"
        },
        "id": "XGOgkZ8aZcXD",
        "outputId": "6a2cc7ac-31cd-4697-9430-e358ce077787"
      },
      "execution_count": 4,
      "outputs": [
        {
          "output_type": "stream",
          "name": "stdout",
          "text": [
            "Requirement already satisfied: fastapi in /usr/local/lib/python3.10/dist-packages (0.115.6)\n",
            "Requirement already satisfied: starlette<0.42.0,>=0.40.0 in /usr/local/lib/python3.10/dist-packages (from fastapi) (0.41.3)\n",
            "Requirement already satisfied: pydantic!=1.8,!=1.8.1,!=2.0.0,!=2.0.1,!=2.1.0,<3.0.0,>=1.7.4 in /usr/local/lib/python3.10/dist-packages (from fastapi) (2.10.3)\n",
            "Requirement already satisfied: typing-extensions>=4.8.0 in /usr/local/lib/python3.10/dist-packages (from fastapi) (4.12.2)\n",
            "Requirement already satisfied: annotated-types>=0.6.0 in /usr/local/lib/python3.10/dist-packages (from pydantic!=1.8,!=1.8.1,!=2.0.0,!=2.0.1,!=2.1.0,<3.0.0,>=1.7.4->fastapi) (0.7.0)\n",
            "Requirement already satisfied: pydantic-core==2.27.1 in /usr/local/lib/python3.10/dist-packages (from pydantic!=1.8,!=1.8.1,!=2.0.0,!=2.0.1,!=2.1.0,<3.0.0,>=1.7.4->fastapi) (2.27.1)\n",
            "Requirement already satisfied: anyio<5,>=3.4.0 in /usr/local/lib/python3.10/dist-packages (from starlette<0.42.0,>=0.40.0->fastapi) (3.7.1)\n",
            "Requirement already satisfied: idna>=2.8 in /usr/local/lib/python3.10/dist-packages (from anyio<5,>=3.4.0->starlette<0.42.0,>=0.40.0->fastapi) (3.10)\n",
            "Requirement already satisfied: sniffio>=1.1 in /usr/local/lib/python3.10/dist-packages (from anyio<5,>=3.4.0->starlette<0.42.0,>=0.40.0->fastapi) (1.3.1)\n",
            "Requirement already satisfied: exceptiongroup in /usr/local/lib/python3.10/dist-packages (from anyio<5,>=3.4.0->starlette<0.42.0,>=0.40.0->fastapi) (1.2.2)\n",
            "Collecting uvicorn\n",
            "  Downloading uvicorn-0.34.0-py3-none-any.whl.metadata (6.5 kB)\n",
            "Requirement already satisfied: click>=7.0 in /usr/local/lib/python3.10/dist-packages (from uvicorn) (8.1.7)\n",
            "Requirement already satisfied: h11>=0.8 in /usr/local/lib/python3.10/dist-packages (from uvicorn) (0.14.0)\n",
            "Requirement already satisfied: typing-extensions>=4.0 in /usr/local/lib/python3.10/dist-packages (from uvicorn) (4.12.2)\n",
            "Downloading uvicorn-0.34.0-py3-none-any.whl (62 kB)\n",
            "\u001b[2K   \u001b[90m━━━━━━━━━━━━━━━━━━━━━━━━━━━━━━━━━━━━━━━━\u001b[0m \u001b[32m62.3/62.3 kB\u001b[0m \u001b[31m2.2 MB/s\u001b[0m eta \u001b[36m0:00:00\u001b[0m\n",
            "\u001b[?25hInstalling collected packages: uvicorn\n",
            "Successfully installed uvicorn-0.34.0\n"
          ]
        }
      ]
    },
    {
      "cell_type": "code",
      "execution_count": null,
      "metadata": {
        "colab": {
          "base_uri": "https://localhost:8080/"
        },
        "id": "qbcrHtATZEul",
        "outputId": "9212bc58-c8c0-4591-b6aa-bada21f3b2c6"
      },
      "outputs": [
        {
          "output_type": "stream",
          "name": "stderr",
          "text": [
            "<ipython-input-7-acac0d15c344>:22: FutureWarning: A value is trying to be set on a copy of a DataFrame or Series through chained assignment using an inplace method.\n",
            "The behavior will change in pandas 3.0. This inplace method will never work because the intermediate object on which we are setting values always behaves as a copy.\n",
            "\n",
            "For example, when doing 'df[col].method(value, inplace=True)', try using 'df.method({col: value}, inplace=True)' or df[col] = df[col].method(value) instead, to perform the operation inplace on the original object.\n",
            "\n",
            "\n",
            "  df_cleaned['Vehicle Type'].fillna(vehicle_type_mode, inplace=True)\n",
            "/usr/local/lib/python3.10/dist-packages/sklearn/linear_model/_logistic.py:465: ConvergenceWarning: lbfgs failed to converge (status=1):\n",
            "STOP: TOTAL NO. of ITERATIONS REACHED LIMIT.\n",
            "\n",
            "Increase the number of iterations (max_iter) or scale the data as shown in:\n",
            "    https://scikit-learn.org/stable/modules/preprocessing.html\n",
            "Please also refer to the documentation for alternative solver options:\n",
            "    https://scikit-learn.org/stable/modules/linear_model.html#logistic-regression\n",
            "  n_iter_i = _check_optimize_result(\n"
          ]
        },
        {
          "output_type": "stream",
          "name": "stdout",
          "text": [
            "Logistic Regression Performance:\n",
            "Accuracy: 0.63\n",
            "Precision: 0.70\n",
            "Recall: 0.85\n",
            "F1 Score: 0.77\n",
            "\n",
            "Classification Report:\n",
            "\n",
            "              precision    recall  f1-score   support\n",
            "\n",
            "           0       0.01      0.00      0.01      1059\n",
            "           1       0.70      0.85      0.77      2941\n",
            "\n",
            "    accuracy                           0.63      4000\n",
            "   macro avg       0.36      0.43      0.39      4000\n",
            "weighted avg       0.52      0.63      0.57      4000\n",
            "\n",
            "\n",
            "Random Forest Performance:\n",
            "Accuracy: 0.91\n",
            "Precision: 0.99\n",
            "Recall: 0.88\n",
            "F1 Score: 0.93\n",
            "\n",
            "Classification Report:\n",
            "\n",
            "              precision    recall  f1-score   support\n",
            "\n",
            "           0       0.75      0.98      0.85      1059\n",
            "           1       0.99      0.88      0.93      2941\n",
            "\n",
            "    accuracy                           0.91      4000\n",
            "   macro avg       0.87      0.93      0.89      4000\n",
            "weighted avg       0.93      0.91      0.91      4000\n",
            "\n"
          ]
        },
        {
          "output_type": "stream",
          "name": "stderr",
          "text": [
            "INFO:     Started server process [910]\n",
            "INFO:     Waiting for application startup.\n",
            "INFO:     Application startup complete.\n",
            "INFO:     Uvicorn running on http://0.0.0.0:8000 (Press CTRL+C to quit)\n"
          ]
        }
      ],
      "source": [
        "import pandas as pd\n",
        "import numpy as np\n",
        "from sklearn.model_selection import train_test_split\n",
        "from sklearn.preprocessing import LabelEncoder\n",
        "from sklearn.linear_model import LogisticRegression\n",
        "from sklearn.ensemble import RandomForestClassifier\n",
        "from sklearn.metrics import accuracy_score, precision_score, recall_score, f1_score, classification_report\n",
        "from fastapi import FastAPI\n",
        "import nest_asyncio\n",
        "import uvicorn\n",
        "\n",
        "# Load dataset\n",
        "data_path = \"/content/AI ML Internship Training Data.xlsx\"\n",
        "data = pd.ExcelFile(data_path)\n",
        "df = data.parse('freight_delivery_realistic_data')\n",
        "\n",
        "# Data cleaning and preprocessing\n",
        "df_cleaned = df.drop(columns=['Shipment ID', 'Planned Delivery Date', 'Actual Delivery Date'])\n",
        "\n",
        "# Handle missing values in Vehicle Type\n",
        "vehicle_type_mode = df_cleaned['Vehicle Type'].mode()[0]\n",
        "df_cleaned['Vehicle Type'].fillna(vehicle_type_mode, inplace=True)\n",
        "\n",
        "# Encode categorical variables\n",
        "categorical_cols = ['Origin', 'Destination', 'Vehicle Type', 'Weather Conditions', 'Traffic Conditions', 'Delayed']\n",
        "label_encoders = {}\n",
        "for col in categorical_cols:\n",
        "    le = LabelEncoder()\n",
        "    df_cleaned[col] = le.fit_transform(df_cleaned[col])\n",
        "    label_encoders[col] = le\n",
        "\n",
        "# Extract additional features from the Shipment Date\n",
        "df_cleaned['Shipment Month'] = df_cleaned['Shipment Date'].dt.month\n",
        "df_cleaned['Shipment Day'] = df_cleaned['Shipment Date'].dt.day\n",
        "df_cleaned = df_cleaned.drop(columns=['Shipment Date'])  # Drop the original datetime column\n",
        "\n",
        "# Split data into features and target\n",
        "X = df_cleaned.drop(columns=['Delayed'])\n",
        "y = df_cleaned['Delayed']\n",
        "\n",
        "# Split into training and test sets\n",
        "X_train, X_test, y_train, y_test = train_test_split(X, y, test_size=0.2, random_state=42)\n",
        "\n",
        "# Train Logistic Regression model\n",
        "logistic_model = LogisticRegression()\n",
        "logistic_model.fit(X_train, y_train)\n",
        "\n",
        "# Train Random Forest model\n",
        "rf_model = RandomForestClassifier(random_state=42)\n",
        "rf_model.fit(X_train, y_train)\n",
        "\n",
        "# Evaluate models\n",
        "def evaluate_model(model, X_test, y_test):\n",
        "    y_pred = model.predict(X_test)\n",
        "    print(f\"Accuracy: {accuracy_score(y_test, y_pred):.2f}\")\n",
        "    print(f\"Precision: {precision_score(y_test, y_pred):.2f}\")\n",
        "    print(f\"Recall: {recall_score(y_test, y_pred):.2f}\")\n",
        "    print(f\"F1 Score: {f1_score(y_test, y_pred):.2f}\")\n",
        "    print(\"\\nClassification Report:\\n\")\n",
        "    print(classification_report(y_test, y_pred))\n",
        "\n",
        "print(\"Logistic Regression Performance:\")\n",
        "evaluate_model(logistic_model, X_test, y_test)\n",
        "\n",
        "print(\"\\nRandom Forest Performance:\")\n",
        "evaluate_model(rf_model, X_test, y_test)\n",
        "\n",
        "\n",
        "# Deployment using FastAPI\n",
        "app = FastAPI()\n",
        "\n",
        "@app.post(\"/predict\")\n",
        "def predict_delay(\n",
        "    origin: str, destination: str, vehicle_type: str, distance: int,\n",
        "    weather: str, traffic: str\n",
        "):\n",
        "    # Prepare input data\n",
        "    input_data = pd.DataFrame({\n",
        "        'Origin': [label_encoders['Origin'].transform([origin])[0]],\n",
        "        'Destination': [label_encoders['Destination'].transform([destination])[0]],\n",
        "        'Vehicle Type': [label_encoders['Vehicle Type'].transform([vehicle_type])[0]],\n",
        "        'Distance (km)': [distance],\n",
        "        'Weather Conditions': [label_encoders['Weather Conditions'].transform([weather])[0]],\n",
        "        'Traffic Conditions': [label_encoders['Traffic Conditions'].transform([traffic])[0]]\n",
        "    })\n",
        "\n",
        "    # Make prediction using the better model (Random Forest)\n",
        "    prediction = rf_model.predict(input_data)\n",
        "    result = label_encoders['Delayed'].inverse_transform(prediction)[0]\n",
        "    return {\"Delayed\": result}\n",
        "\n",
        "nest_asyncio.apply()\n",
        "\n",
        "if __name__ == \"__main__\":\n",
        "    uvicorn.run(app, host=\"0.0.0.0\", port=8000)\n"
      ]
    },
    {
      "cell_type": "code",
      "source": [],
      "metadata": {
        "id": "T65u5zXkZZW3"
      },
      "execution_count": null,
      "outputs": []
    }
  ]
}